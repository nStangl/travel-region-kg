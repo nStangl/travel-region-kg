{
 "cells": [
  {
   "cell_type": "code",
   "execution_count": 1,
   "id": "3d390afe",
   "metadata": {
    "scrolled": false
   },
   "outputs": [
    {
     "ename": "ModuleNotFoundError",
     "evalue": "No module named 'recommender.dashboard'",
     "output_type": "error",
     "traceback": [
      "\u001b[0;31m---------------------------------------------------------------------------\u001b[0m",
      "\u001b[0;31mModuleNotFoundError\u001b[0m                       Traceback (most recent call last)",
      "Cell \u001b[0;32mIn[1], line 4\u001b[0m\n\u001b[1;32m      2\u001b[0m sys\u001b[38;5;241m.\u001b[39mpath\u001b[38;5;241m.\u001b[39mappend(\u001b[38;5;124m'\u001b[39m\u001b[38;5;124msrc/\u001b[39m\u001b[38;5;124m'\u001b[39m)\n\u001b[1;32m      3\u001b[0m sys\u001b[38;5;241m.\u001b[39mpath\u001b[38;5;241m.\u001b[39mappend(\u001b[38;5;124m'\u001b[39m\u001b[38;5;124msrc/graphdb-client/\u001b[39m\u001b[38;5;124m'\u001b[39m)\n\u001b[0;32m----> 4\u001b[0m \u001b[38;5;28;01mfrom\u001b[39;00m \u001b[38;5;21;01mrecommender\u001b[39;00m \u001b[38;5;28;01mimport\u001b[39;00m user_input\n\u001b[1;32m      5\u001b[0m \u001b[38;5;28;01mimport\u001b[39;00m \u001b[38;5;21;01mswagger_client\u001b[39;00m\n\u001b[1;32m      6\u001b[0m \u001b[38;5;28;01mfrom\u001b[39;00m \u001b[38;5;21;01m__future__\u001b[39;00m \u001b[38;5;28;01mimport\u001b[39;00m print_function\n",
      "File \u001b[0;32m~/Nextcloud/Uni/7_Semester/Thesis/code/client/src/recommender/__init__.py:1\u001b[0m\n\u001b[0;32m----> 1\u001b[0m \u001b[38;5;28;01mfrom\u001b[39;00m \u001b[38;5;21;01m.\u001b[39;00m\u001b[38;5;21;01mdashboard\u001b[39;00m \u001b[38;5;28;01mimport\u001b[39;00m DashboardData\n\u001b[1;32m      2\u001b[0m \u001b[38;5;28;01mfrom\u001b[39;00m \u001b[38;5;21;01m.\u001b[39;00m\u001b[38;5;21;01mdashboard\u001b[39;00m \u001b[38;5;28;01mimport\u001b[39;00m getDashboardInput\n",
      "\u001b[0;31mModuleNotFoundError\u001b[0m: No module named 'recommender.dashboard'"
     ]
    }
   ],
   "source": [
    "import sys\n",
    "sys.path.append('src/')\n",
    "sys.path.append('src/graphdb-client/')\n",
    "from recommender import user_input\n",
    "import swagger_client\n",
    "from __future__ import print_function\n",
    "import time\n",
    "from pprint import pprint\n",
    "import pandas as pd\n",
    "import ipywidgets as widgets\n",
    "from IPython.display import display"
   ]
  },
  {
   "cell_type": "code",
   "execution_count": null,
   "id": "17c52a14",
   "metadata": {},
   "outputs": [],
   "source": [
    "api_instance = swagger_client.SparqlApi()\n",
    "repository_id = 'TravelRegionKnowledgeGraph'\n",
    "query_ln = 'sparql' # str | Specifies the query language that is used for the query. Acceptable values are strings denoting the query languages supported by the server, i.e. 'serql' for SeRQL queries and 'sparql' for SPARQL queries. If not specified, the server assumes the query is a SPARQL query (optional)\n",
    "infer = True # bool | Specifies whether inferred statements should be included in the query evaluation. Inferred statements are included by default. Specifying any value other than 'true' (ignoring case) restricts the query evluation to explicit statements only. (optional)\n",
    "varname = '' # str | Specifies variable bindings. Variables appearing in the query can be bound to a specific value outside the actual query using this option. The value should be an N-Triples encoded RDF value. (optional)\n",
    "timeout = 56 # int | Specifies a maximum query execution time, in whole seconds. The value should be an integer. A setting of 0 or a negative number indicates unlimited query time (the default). (optional)\n",
    "distinct = True # bool | Specifies if only distinct query solutions should be returned. The value should be true or false. If the supplied SPARQL query itself already has a DISTINCT modifier, this parameter will have no effect. (optional)\n",
    "limit = 56 # int | Specifies the maximum number of query solutions to return. The value should be a positive integer. If the supplied SPARQL query itself already has a LIMIT modifier, this parameter will only have an effect if the supplied value is lower than the LIMIT value in the query. (optional)\n",
    "offset = 0 # int | Specifies the number of query solutions to skip. The value should be a positive integer. This parameter is cumulative with any OFFSET modifier in the supplied SPARQL query itself. (optional)"
   ]
  },
  {
   "cell_type": "code",
   "execution_count": null,
   "id": "0c84ef65",
   "metadata": {
    "scrolled": true
   },
   "outputs": [],
   "source": [
    "display(user_input.dashboard)"
   ]
  },
  {
   "cell_type": "code",
   "execution_count": null,
   "id": "d156ea71",
   "metadata": {},
   "outputs": [],
   "source": [
    "print(user_input.getDashboardInput())"
   ]
  },
  {
   "cell_type": "code",
   "execution_count": null,
   "id": "c5aa50a7",
   "metadata": {},
   "outputs": [],
   "source": [
    "query = \"\"\"PREFIX dbo: <http://dbpedia.org/ontology/>\n",
    "PREFIX travelregion: <http://cit.tum.de/ressource/travelkg/region/>\n",
    "PREFIX travelkg: <http://cit.tum.de/ontology/travelkg/>\n",
    "\n",
    "select ?region ?cost where { \n",
    "    ?region dbo:subregion+ travelregion:Europe .\n",
    "    ?region travelkg:januaryRating <http://cit.tum.de/ressource/travelkg/monthlyRating/january/4> .\n",
    "    ?region travelkg:avgCostPerWeek ?cost .\n",
    "} LIMIT 10\n",
    "\"\"\"\n",
    "\n",
    "try:\n",
    "    # Send queries on a specific repository with ID. This resource represents a SPARQL query endpoint\n",
    "    api_response = api_instance.execute_get_select_query(repository_id, query, query_ln=query_ln, infer=infer, timeout=timeout, distinct=distinct, limit=limit, offset=offset)\n",
    "    cols = api_response.get('head').get('vars')\n",
    "    values = api_response.get('results').get('bindings')\n",
    "    data = []\n",
    "    \n",
    "    for row in values:\n",
    "        d_row =[]\n",
    "        for col in cols:\n",
    "            d_row.append(row.get(col).get('value'))\n",
    "        data.append(d_row)\n",
    "    \n",
    "    df = pd.DataFrame(data, columns=cols)\n",
    "    display(df)\n",
    "    \n",
    "except ApiException as e:\n",
    "    print(\"Exception when calling SparqlApi->execute_get_select_query: %s\\n\" % e)"
   ]
  },
  {
   "cell_type": "code",
   "execution_count": null,
   "id": "73c68ef1",
   "metadata": {},
   "outputs": [],
   "source": []
  }
 ],
 "metadata": {
  "kernelspec": {
   "display_name": "Python 3 (ipykernel)",
   "language": "python",
   "name": "python3"
  },
  "language_info": {
   "codemirror_mode": {
    "name": "ipython",
    "version": 3
   },
   "file_extension": ".py",
   "mimetype": "text/x-python",
   "name": "python",
   "nbconvert_exporter": "python",
   "pygments_lexer": "ipython3",
   "version": "3.10.9"
  },
  "vscode": {
   "interpreter": {
    "hash": "e7370f93d1d0cde622a1f8e1c04877d8463912d04d973331ad4851f04de6915a"
   }
  }
 },
 "nbformat": 4,
 "nbformat_minor": 5
}
