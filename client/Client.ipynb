{
 "cells": [
  {
   "cell_type": "code",
   "execution_count": 1,
   "id": "3d390afe",
   "metadata": {
    "scrolled": false
   },
   "outputs": [],
   "source": [
    "import sys\n",
    "sys.path.append('src/')\n",
    "sys.path.append('src/graphdb-client/')\n",
    "from recommender import user_input, recommend\n",
    "import swagger_client\n",
    "import pandas as pd\n",
    "from IPython.display import display, Markdown, display_markdown"
   ]
  },
  {
   "cell_type": "markdown",
   "id": "9461ab91",
   "metadata": {},
   "source": [
    "**Configuration Parameters**\n",
    "\n",
    "Set the configuration according to your GraphDB instance."
   ]
  },
  {
   "cell_type": "code",
   "execution_count": 2,
   "id": "17c52a14",
   "metadata": {},
   "outputs": [],
   "source": [
    "repository_id = 'TravelRegion'"
   ]
  },
  {
   "cell_type": "code",
   "execution_count": 4,
   "id": "0c84ef65",
   "metadata": {
    "scrolled": false
   },
   "outputs": [
    {
     "data": {
      "application/vnd.jupyter.widget-view+json": {
       "model_id": "cb3f08b742cc42288e39466a510fa8c8",
       "version_major": 2,
       "version_minor": 0
      },
      "text/plain": [
       "VBox(children=(HTML(value='<b>Travel Region Recommender</b>'), Box(children=(Label(value='Input your constrain…"
      ]
     },
     "metadata": {},
     "output_type": "display_data"
    }
   ],
   "source": [
    "display(user_input.dashboard)"
   ]
  },
  {
   "cell_type": "code",
   "execution_count": 6,
   "id": "d156ea71",
   "metadata": {
    "scrolled": false
   },
   "outputs": [
    {
     "data": {
      "text/markdown": [
       "*Recommended Travel Trips:*\n",
       "---\n",
       "-----\n",
       "**Destination 1: France**\n",
       "| Score | Maximum Staytime | Average Cost Per Week |\n",
       "|:------|:------------------|:----------------------|\n",
       "|69 % |33 days | 400    |\n",
       "\n",
       "-----\n",
       "**Destination 2: Italy and Malta**\n",
       "| Score | Maximum Staytime | Average Cost Per Week |\n",
       "|:------|:------------------|:----------------------|\n",
       "|67 % |40 days | 400    |\n",
       "\n",
       "-----\n",
       "**Destination 3: Austria**\n",
       "| Score | Maximum Staytime | Average Cost Per Week |\n",
       "|:------|:------------------|:----------------------|\n",
       "|63 % |28 days | 400    |\n",
       "\n",
       "-----\n",
       "**Destination 4: Greece mainland**\n",
       "| Score | Maximum Staytime | Average Cost Per Week |\n",
       "|:------|:------------------|:----------------------|\n",
       "|63 % |40 days | 400    |\n",
       "\n",
       "-----\n",
       "**Destination 5: Greece islands**\n",
       "| Score | Maximum Staytime | Average Cost Per Week |\n",
       "|:------|:------------------|:----------------------|\n",
       "|63 % |40 days | 400    |\n",
       "\n",
       "-----\n",
       "**Destination 6: Spain Balearic Islands**\n",
       "| Score | Maximum Staytime | Average Cost Per Week |\n",
       "|:------|:------------------|:----------------------|\n",
       "|63 % |40 days | 400    |\n",
       "\n",
       "-----\n",
       "**Destination 7: Switzerland and Liechtenstein**\n",
       "| Score | Maximum Staytime | Average Cost Per Week |\n",
       "|:------|:------------------|:----------------------|\n",
       "|62 % |18 days | 400    |\n",
       "\n",
       "-----\n",
       "**Destination 8: Turkey**\n",
       "| Score | Maximum Staytime | Average Cost Per Week |\n",
       "|:------|:------------------|:----------------------|\n",
       "|62 % |40 days | 400    |\n",
       "\n",
       "-----\n",
       "**Destination 9: Spain mainland**\n",
       "| Score | Maximum Staytime | Average Cost Per Week |\n",
       "|:------|:------------------|:----------------------|\n",
       "|60 % |40 days | 400    |\n",
       "\n",
       "-----\n",
       "**Destination 10: Slovenia and Croatia**\n",
       "| Score | Maximum Staytime | Average Cost Per Week |\n",
       "|:------|:------------------|:----------------------|\n",
       "|58 % |40 days | 400    |\n",
       "\n"
      ]
     },
     "metadata": {},
     "output_type": "display_data"
    }
   ],
   "source": [
    "api_instance = swagger_client.SparqlApi()\n",
    "data = user_input.getDashboardInput()\n",
    "\n",
    "query = recommend.buildQuery(data)\n",
    "\n",
    "response = api_instance.execute_get_select_query(\n",
    "        repository_id, query, query_ln='sparql', infer=True, timeout=30, distinct=True, limit=0, offset=0)\n",
    "df, columns = recommend.readAPIResponse(response)\n",
    "\n",
    "recommend.rankRegions(data, df, columns)\n",
    "md = recommend.displayRecommendations(df.nlargest(10, 'score'))\n",
    "display_markdown(md, raw=True)"
   ]
  },
  {
   "cell_type": "code",
   "execution_count": null,
   "id": "69bdcefe",
   "metadata": {},
   "outputs": [],
   "source": []
  }
 ],
 "metadata": {
  "kernelspec": {
   "display_name": "Python 3 (ipykernel)",
   "language": "python",
   "name": "python3"
  },
  "language_info": {
   "codemirror_mode": {
    "name": "ipython",
    "version": 3
   },
   "file_extension": ".py",
   "mimetype": "text/x-python",
   "name": "python",
   "nbconvert_exporter": "python",
   "pygments_lexer": "ipython3",
   "version": "3.10.9"
  },
  "vscode": {
   "interpreter": {
    "hash": "e7370f93d1d0cde622a1f8e1c04877d8463912d04d973331ad4851f04de6915a"
   }
  }
 },
 "nbformat": 4,
 "nbformat_minor": 5
}
