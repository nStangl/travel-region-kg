{
 "cells": [
  {
   "cell_type": "code",
   "execution_count": 1,
   "id": "3d390afe",
   "metadata": {
    "scrolled": false
   },
   "outputs": [],
   "source": [
    "import sys\n",
    "sys.path.append('src/')\n",
    "sys.path.append('src/graphdb-client/')\n",
    "import swagger_client\n",
    "from recommender import ui, lib\n",
    "from IPython.display import display"
   ]
  },
  {
   "cell_type": "markdown",
   "id": "83c22555",
   "metadata": {},
   "source": [
    "**Configuration Parameters**\n",
    "\n",
    "Set the configuration according to your GraphDB instance."
   ]
  },
  {
   "cell_type": "code",
   "execution_count": 2,
   "id": "17c52a14",
   "metadata": {},
   "outputs": [],
   "source": [
    "lib._repository_id = \"TravelRegion\"\n",
    "lib._host_url = \"http://localhost:7200\""
   ]
  },
  {
   "cell_type": "code",
   "execution_count": 3,
   "id": "0c84ef65",
   "metadata": {
    "scrolled": false
   },
   "outputs": [
    {
     "data": {
      "application/vnd.jupyter.widget-view+json": {
       "model_id": "17c34dd7c53540bb9cabd52c350d9dc5",
       "version_major": 2,
       "version_minor": 0
      },
      "text/plain": [
       "VBox(children=(HTML(value='<b>Travel Region Recommender</b>'), Box(children=(Label(value='Input your constrain…"
      ]
     },
     "metadata": {},
     "output_type": "display_data"
    }
   ],
   "source": [
    "display(ui.dashboard)"
   ]
  }
 ],
 "metadata": {
  "kernelspec": {
   "display_name": "Python 3 (ipykernel)",
   "language": "python",
   "name": "python3"
  },
  "language_info": {
   "codemirror_mode": {
    "name": "ipython",
    "version": 3
   },
   "file_extension": ".py",
   "mimetype": "text/x-python",
   "name": "python",
   "nbconvert_exporter": "python",
   "pygments_lexer": "ipython3",
   "version": "3.10.9"
  },
  "vscode": {
   "interpreter": {
    "hash": "e7370f93d1d0cde622a1f8e1c04877d8463912d04d973331ad4851f04de6915a"
   }
  }
 },
 "nbformat": 4,
 "nbformat_minor": 5
}
