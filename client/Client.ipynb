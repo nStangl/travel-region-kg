{
 "cells": [
  {
   "cell_type": "code",
   "execution_count": 1,
   "id": "3d390afe",
   "metadata": {
    "scrolled": false
   },
   "outputs": [],
   "source": [
    "import sys\n",
    "sys.path.append('src/')\n",
    "sys.path.append('src/graphdb-client/')\n",
    "from recommender import user_input, recommend\n",
    "import swagger_client\n",
    "from __future__ import print_function\n",
    "import time\n",
    "from pprint import pprint\n",
    "import pandas as pd\n",
    "import ipywidgets as widgets\n",
    "from IPython.display import display, Markdown, display_markdown"
   ]
  },
  {
   "cell_type": "markdown",
   "id": "10a8af4e",
   "metadata": {},
   "source": []
  },
  {
   "cell_type": "code",
   "execution_count": 2,
   "id": "17c52a14",
   "metadata": {},
   "outputs": [],
   "source": [
    "\n",
    "repository_id = 'TravelRegion'"
   ]
  },
  {
   "cell_type": "code",
   "execution_count": 3,
   "id": "0c84ef65",
   "metadata": {
    "scrolled": false
   },
   "outputs": [
    {
     "data": {
      "application/vnd.jupyter.widget-view+json": {
       "model_id": "1ef30096e42c4baba3102a210b05f424",
       "version_major": 2,
       "version_minor": 0
      },
      "text/plain": [
       "VBox(children=(HBox(children=(BoundedIntText(value=4000, description='Budget in Euro', max=100000, step=100, s…"
      ]
     },
     "metadata": {},
     "output_type": "display_data"
    }
   ],
   "source": [
    "display(user_input.dashboard)"
   ]
  },
  {
   "cell_type": "code",
   "execution_count": 4,
   "id": "d156ea71",
   "metadata": {
    "scrolled": false
   },
   "outputs": [
    {
     "data": {
      "text/markdown": [
       "*Recommended Travel Trips:*\n",
       "---\n",
       "**Destination 1: California**\n",
       "\n",
       "----------\n",
       "\n",
       "| Score | Maximum Staytime | Average Cost Per Week |\n",
       "|:------|:------------------|:----------------------|\n",
       "|77 % |46 days | 400    |\n",
       "\n",
       "**Destination 2: Florida**\n",
       "\n",
       "----------\n",
       "\n",
       "| Score | Maximum Staytime | Average Cost Per Week |\n",
       "|:------|:------------------|:----------------------|\n",
       "|73 % |46 days | 400    |\n",
       "\n",
       "**Destination 3: France**\n",
       "\n",
       "----------\n",
       "\n",
       "| Score | Maximum Staytime | Average Cost Per Week |\n",
       "|:------|:------------------|:----------------------|\n",
       "|69 % |66 days | 400    |\n",
       "\n",
       "**Destination 4: British Columbia**\n",
       "\n",
       "----------\n",
       "\n",
       "| Score | Maximum Staytime | Average Cost Per Week |\n",
       "|:------|:------------------|:----------------------|\n",
       "|69 % |38 days | 400    |\n",
       "\n",
       "**Destination 5: Italy and Malta**\n",
       "\n",
       "----------\n",
       "\n",
       "| Score | Maximum Staytime | Average Cost Per Week |\n",
       "|:------|:------------------|:----------------------|\n",
       "|67 % |79 days | 400    |\n",
       "\n",
       "**Destination 6: USA South**\n",
       "\n",
       "----------\n",
       "\n",
       "| Score | Maximum Staytime | Average Cost Per Week |\n",
       "|:------|:------------------|:----------------------|\n",
       "|67 % |46 days | 400    |\n",
       "\n",
       "**Destination 7: China Southeast Hainan to Fujian incl Hong Kong **\n",
       "\n",
       "----------\n",
       "\n",
       "| Score | Maximum Staytime | Average Cost Per Week |\n",
       "|:------|:------------------|:----------------------|\n",
       "|67 % |62 days | 400    |\n",
       "\n",
       "**Destination 8: Colombia**\n",
       "\n",
       "----------\n",
       "\n",
       "| Score | Maximum Staytime | Average Cost Per Week |\n",
       "|:------|:------------------|:----------------------|\n",
       "|65 % |79 days | 400    |\n",
       "\n",
       "**Destination 9: Japan**\n",
       "\n",
       "----------\n",
       "\n",
       "| Score | Maximum Staytime | Average Cost Per Week |\n",
       "|:------|:------------------|:----------------------|\n",
       "|65 % |49 days | 400    |\n",
       "\n",
       "**Destination 10: Austria**\n",
       "\n",
       "----------\n",
       "\n",
       "| Score | Maximum Staytime | Average Cost Per Week |\n",
       "|:------|:------------------|:----------------------|\n",
       "|62 % |56 days | 400    |\n",
       "\n"
      ]
     },
     "metadata": {},
     "output_type": "display_data"
    }
   ],
   "source": [
    "api_instance = swagger_client.SparqlApi()\n",
    "data = user_input.getDashboardInput()\n",
    "\n",
    "query = recommend.buildQuery(data)\n",
    "\n",
    "response = api_instance.execute_get_select_query(\n",
    "        repository_id, query, query_ln='sparql', infer=True, timeout=30, distinct=True, limit=0, offset=0)\n",
    "df, columns = recommend.readAPIResponse(response)\n",
    "\n",
    "recommend.rankRegions(data, df, columns)\n",
    "md = recommend.displayRecommendations(df.nlargest(10, 'score'))\n",
    "display_markdown(md, raw=True)"
   ]
  },
  {
   "cell_type": "code",
   "execution_count": null,
   "id": "b79178be",
   "metadata": {},
   "outputs": [],
   "source": []
  }
 ],
 "metadata": {
  "kernelspec": {
   "display_name": "Python 3 (ipykernel)",
   "language": "python",
   "name": "python3"
  },
  "language_info": {
   "codemirror_mode": {
    "name": "ipython",
    "version": 3
   },
   "file_extension": ".py",
   "mimetype": "text/x-python",
   "name": "python",
   "nbconvert_exporter": "python",
   "pygments_lexer": "ipython3",
   "version": "3.10.9"
  },
  "vscode": {
   "interpreter": {
    "hash": "e7370f93d1d0cde622a1f8e1c04877d8463912d04d973331ad4851f04de6915a"
   }
  }
 },
 "nbformat": 4,
 "nbformat_minor": 5
}
