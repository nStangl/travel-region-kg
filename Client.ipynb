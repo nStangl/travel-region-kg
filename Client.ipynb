{
 "cells": [
  {
   "cell_type": "markdown",
   "id": "0bd675fb",
   "metadata": {},
   "source": [
    "The client library code is generated via [swagger](https://swagger.io). See README for details."
   ]
  },
  {
   "cell_type": "code",
   "execution_count": 41,
   "id": "3d390afe",
   "metadata": {
    "scrolled": false
   },
   "outputs": [],
   "source": [
    "import sys\n",
    "sys.path.append('python-client/')\n",
    "import swagger_client\n",
    "from __future__ import print_function\n",
    "import time\n",
    "from swagger_client.rest import ApiException\n",
    "from pprint import pprint\n",
    "import pandas as pd"
   ]
  },
  {
   "cell_type": "code",
   "execution_count": 42,
   "id": "17c52a14",
   "metadata": {},
   "outputs": [],
   "source": [
    "api_instance = swagger_client.SparqlApi()\n",
    "repository_id = 'TravelRegionKnowledgeGraph'\n",
    "query_ln = 'sparql' # str | Specifies the query language that is used for the query. Acceptable values are strings denoting the query languages supported by the server, i.e. 'serql' for SeRQL queries and 'sparql' for SPARQL queries. If not specified, the server assumes the query is a SPARQL query (optional)\n",
    "infer = True # bool | Specifies whether inferred statements should be included in the query evaluation. Inferred statements are included by default. Specifying any value other than 'true' (ignoring case) restricts the query evluation to explicit statements only. (optional)\n",
    "varname = '' # str | Specifies variable bindings. Variables appearing in the query can be bound to a specific value outside the actual query using this option. The value should be an N-Triples encoded RDF value. (optional)\n",
    "timeout = 56 # int | Specifies a maximum query execution time, in whole seconds. The value should be an integer. A setting of 0 or a negative number indicates unlimited query time (the default). (optional)\n",
    "distinct = True # bool | Specifies if only distinct query solutions should be returned. The value should be true or false. If the supplied SPARQL query itself already has a DISTINCT modifier, this parameter will have no effect. (optional)\n",
    "limit = 56 # int | Specifies the maximum number of query solutions to return. The value should be a positive integer. If the supplied SPARQL query itself already has a LIMIT modifier, this parameter will only have an effect if the supplied value is lower than the LIMIT value in the query. (optional)\n",
    "offset = 0 # int | Specifies the number of query solutions to skip. The value should be a positive integer. This parameter is cumulative with any OFFSET modifier in the supplied SPARQL query itself. (optional)"
   ]
  },
  {
   "cell_type": "code",
   "execution_count": 43,
   "id": "c5aa50a7",
   "metadata": {},
   "outputs": [
    {
     "data": {
      "text/html": [
       "<div>\n",
       "<style scoped>\n",
       "    .dataframe tbody tr th:only-of-type {\n",
       "        vertical-align: middle;\n",
       "    }\n",
       "\n",
       "    .dataframe tbody tr th {\n",
       "        vertical-align: top;\n",
       "    }\n",
       "\n",
       "    .dataframe thead th {\n",
       "        text-align: right;\n",
       "    }\n",
       "</style>\n",
       "<table border=\"1\" class=\"dataframe\">\n",
       "  <thead>\n",
       "    <tr style=\"text-align: right;\">\n",
       "      <th></th>\n",
       "      <th>region</th>\n",
       "      <th>cost</th>\n",
       "    </tr>\n",
       "  </thead>\n",
       "  <tbody>\n",
       "    <tr>\n",
       "      <th>0</th>\n",
       "      <td>http://cit.tum.de/ressource/travelkg/region/Ce...</td>\n",
       "      <td>http://cit.tum.de/ressource/travelkg/avgCostPe...</td>\n",
       "    </tr>\n",
       "    <tr>\n",
       "      <th>1</th>\n",
       "      <td>http://cit.tum.de/ressource/travelkg/region/Ge...</td>\n",
       "      <td>http://cit.tum.de/ressource/travelkg/avgCostPe...</td>\n",
       "    </tr>\n",
       "    <tr>\n",
       "      <th>2</th>\n",
       "      <td>http://cit.tum.de/ressource/travelkg/region/Be...</td>\n",
       "      <td>http://cit.tum.de/ressource/travelkg/avgCostPe...</td>\n",
       "    </tr>\n",
       "    <tr>\n",
       "      <th>3</th>\n",
       "      <td>http://cit.tum.de/ressource/travelkg/region/Fr...</td>\n",
       "      <td>http://cit.tum.de/ressource/travelkg/avgCostPe...</td>\n",
       "    </tr>\n",
       "    <tr>\n",
       "      <th>4</th>\n",
       "      <td>http://cit.tum.de/ressource/travelkg/region/Sl...</td>\n",
       "      <td>http://cit.tum.de/ressource/travelkg/avgCostPe...</td>\n",
       "    </tr>\n",
       "  </tbody>\n",
       "</table>\n",
       "</div>"
      ],
      "text/plain": [
       "                                              region  \\\n",
       "0  http://cit.tum.de/ressource/travelkg/region/Ce...   \n",
       "1  http://cit.tum.de/ressource/travelkg/region/Ge...   \n",
       "2  http://cit.tum.de/ressource/travelkg/region/Be...   \n",
       "3  http://cit.tum.de/ressource/travelkg/region/Fr...   \n",
       "4  http://cit.tum.de/ressource/travelkg/region/Sl...   \n",
       "\n",
       "                                                cost  \n",
       "0  http://cit.tum.de/ressource/travelkg/avgCostPe...  \n",
       "1  http://cit.tum.de/ressource/travelkg/avgCostPe...  \n",
       "2  http://cit.tum.de/ressource/travelkg/avgCostPe...  \n",
       "3  http://cit.tum.de/ressource/travelkg/avgCostPe...  \n",
       "4  http://cit.tum.de/ressource/travelkg/avgCostPe...  "
      ]
     },
     "metadata": {},
     "output_type": "display_data"
    }
   ],
   "source": [
    "query = \"\"\"PREFIX dbo: <http://dbpedia.org/ontology/>\n",
    "PREFIX travelregion: <http://cit.tum.de/ressource/travelkg/region/>\n",
    "PREFIX travelkg: <http://cit.tum.de/ontology/travelkg/>\n",
    "\n",
    "select ?region ?cost where { \n",
    "    ?region dbo:subregion+ travelregion:Europe .\n",
    "    ?region travelkg:januaryRating <http://cit.tum.de/ressource/travelkg/monthlyRating/january/4> .\n",
    "    ?region travelkg:avgCostPerWeek ?cost .\n",
    "} LIMIT 10\n",
    "\"\"\"\n",
    "\n",
    "try:\n",
    "    # Send queries on a specific repository with ID. This resource represents a SPARQL query endpoint\n",
    "    api_response = api_instance.execute_get_select_query(repository_id, query, query_ln=query_ln, infer=infer, timeout=timeout, distinct=distinct, limit=limit, offset=offset)\n",
    "    cols = api_response.get('head').get('vars')\n",
    "    values = api_response.get('results').get('bindings')\n",
    "    data = []\n",
    "    \n",
    "    for row in values:\n",
    "        d_row =[]\n",
    "        for col in cols:\n",
    "            d_row.append(row.get(col).get('value'))\n",
    "        data.append(d_row)\n",
    "    \n",
    "    df = pd.DataFrame(data, columns=cols)\n",
    "    display(df)\n",
    "    \n",
    "except ApiException as e:\n",
    "    print(\"Exception when calling SparqlApi->execute_get_select_query: %s\\n\" % e)"
   ]
  }
 ],
 "metadata": {
  "kernelspec": {
   "display_name": "Python 3 (ipykernel)",
   "language": "python",
   "name": "python3"
  },
  "language_info": {
   "codemirror_mode": {
    "name": "ipython",
    "version": 3
   },
   "file_extension": ".py",
   "mimetype": "text/x-python",
   "name": "python",
   "nbconvert_exporter": "python",
   "pygments_lexer": "ipython3",
   "version": "3.10.9"
  }
 },
 "nbformat": 4,
 "nbformat_minor": 5
}
